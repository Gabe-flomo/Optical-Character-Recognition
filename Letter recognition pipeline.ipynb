{
 "cells": [
  {
   "cell_type": "markdown",
   "metadata": {},
   "source": [
    "# Objective\n",
    "Train a CNN to recognize hand written letters and digits.\n",
    "\n",
    "### Steps\n",
    "1. Load/extract the data \n",
    "2. Visualize samples of each class\n",
    "3. Build the model\n",
    "4. Train the model\n",
    "5. Evaluate\n",
    "6. Make predictions"
   ]
  },
  {
   "cell_type": "code",
   "execution_count": 362,
   "metadata": {},
   "outputs": [],
   "source": [
    "import numpy as np\n",
    "import pandas as pd\n",
    "from keras.utils import to_categorical\n",
    "from sklearn.preprocessing import LabelEncoder\n",
    "from keras.models import Sequential\n",
    "from keras.layers import Dense, Dropout, Flatten\n",
    "from keras.layers import Conv2D, MaxPooling2D\n",
    "from keras import backend as K\n",
    "from keras.callbacks import ModelCheckpoint, EarlyStopping\n",
    "from PIL import ImageGrab, Image\n",
    "import matplotlib.pyplot as plt\n",
    "import urllib # to download files\n",
    "import os\n",
    "import gzip #to unzip files\n",
    "from random import randint"
   ]
  },
  {
   "cell_type": "code",
   "execution_count": null,
   "metadata": {},
   "outputs": [],
   "source": [
    "!pip install "
   ]
  },
  {
   "cell_type": "code",
   "execution_count": 364,
   "metadata": {},
   "outputs": [],
   "source": [
    "# this function will load the data by wither downloading it or uploading \n",
    "# it using a path to a file\n",
    "def load_dataset(digits = False):\n",
    "    # the location that the downloaded files should go\n",
    "    location = r'E:\\Documents\\Data\\Datasets\\downloaded'\n",
    "    \n",
    "    def download(filename, source=r'http://www.itl.nist.gov/iaui/vip/cs_links/EMNIST'):\n",
    "        # downloads the files from 'source' to the location\n",
    "        urllib.urlretrieve(os.path.join(source, filename),location)\n",
    "        \n",
    "    def load_images(filename):\n",
    "        # first check to see if the file needs to be downloaded\n",
    "        # if the file exists it doesnt need to be downloaded\n",
    "        if not os.path.exists(filename):\n",
    "            download(filename)\n",
    "            \n",
    "        # next we use gzip.open() to open the zip file, which we read in bytes\n",
    "        # mode because zip files are binary files\n",
    "        with gzip.open(filename,'rb') as file:\n",
    "            # read the data into a numpy array\n",
    "            data = np.frombuffer(file.read(), np.uint8, offset = 16)\n",
    "            # the data we extract needs to be reshaped from a 1d vector to a 2d image matrix\n",
    "            # we also need to convert the numbers from bytes to floats\n",
    "            # Each image is a 28x28 matrix with 1 channel because its a monochrome image\n",
    "            # dim 1: the number of images there are (-1 to infer that value)\n",
    "            # dim 2 and 3: represents the pixels\n",
    "            data = data.reshape(-1,28,28)\n",
    "        \n",
    "            \n",
    "            \n",
    "            # return the data as float \n",
    "            # this converts the byte value to a float32 in the range [0,1]\n",
    "            return data/np.float32(256)\n",
    "        \n",
    "    def load_labels(filename):\n",
    "        # first check to see if the file needs to be downloaded\n",
    "        # if the file exists it doesnt need to be downloaded\n",
    "        if not os.path.exists(filename):\n",
    "            download(filename)\n",
    "            \n",
    "        with gzip.open(filename, 'rb') as file:\n",
    "            data = np.frombuffer(file.read(), np.uint8, offset = 8)\n",
    "        \n",
    "        return data\n",
    "    \n",
    "    if digits:\n",
    "        print('Loading Digits')\n",
    "        xtrain = load_images(r'E:\\Documents\\Data\\Datasets\\gzip\\train_digit_images.gz')\n",
    "        ytrain = load_labels(r'E:\\Documents\\Data\\Datasets\\gzip\\train_digit_labels.gz')\n",
    "        xtest = load_images(r'E:\\Documents\\Data\\Datasets\\gzip\\test_digit_images.gz')\n",
    "        ytest = load_labels(r'E:\\Documents\\Data\\Datasets\\gzip\\test_digit_labels.gz')\n",
    "    else:\n",
    "        print('Loading Letters')\n",
    "        xtrain = load_images(r'E:\\Documents\\Data\\Datasets\\gzip\\train_letters_images.gz')\n",
    "        ytrain = load_labels(r'E:\\Documents\\Data\\Datasets\\gzip\\train_letters_labels.gz')\n",
    "        xtest = load_images(r'E:\\Documents\\Data\\Datasets\\gzip\\test_letters_images.gz')\n",
    "        ytest = load_labels(r'E:\\Documents\\Data\\Datasets\\gzip\\test_letters_labels.gz')\n",
    "        \n",
    "    return xtrain, ytrain, xtest, ytest \n",
    "        \n",
    "def view_sample_images(data, labels, digits=False):\n",
    "    for i in range(9):\n",
    "        plt.subplot(3,3,i+1)\n",
    "        plt.tight_layout()\n",
    "        x = randint(0,len(data)-1)\n",
    "        plt.imshow(data[x], cmap='gray', interpolation='none')\n",
    "        if not digits:\n",
    "            plt.title(f'Label: {map_label(labels[x])}')\n",
    "        else:\n",
    "            plt.title(f'Label: {labels[x]}')\n",
    "            \n",
    "        plt.xticks([])\n",
    "        plt.yticks([])\n",
    "\n",
    "def map_label(label):\n",
    "    mapping = {1:'A',\n",
    "               2:'B',\n",
    "              3:'C',\n",
    "              4:'D',\n",
    "              5:'E',\n",
    "              6:'F',\n",
    "              7:'G',\n",
    "              8:'H',\n",
    "              9:'I',\n",
    "              10:'J',\n",
    "              11:'K',\n",
    "              12:'L',\n",
    "              13:'M',\n",
    "              14:'N',\n",
    "              15:'O',\n",
    "              16:'P',\n",
    "              17:'Q',\n",
    "              18:'R',\n",
    "              19:'S',\n",
    "              20:'T',\n",
    "              21:'U',\n",
    "              22:'V',\n",
    "              23:'W',\n",
    "              24:'X',\n",
    "              25:'Y',\n",
    "              26:'Z',\n",
    "              27:'0',\n",
    "              28:'1',\n",
    "              29:'2',\n",
    "              30:'3',\n",
    "              31:'4',\n",
    "              32:'5',\n",
    "              33:'6',\n",
    "              34:'7',\n",
    "              35:'8',\n",
    "              36:'9'}\n",
    "    \n",
    "    return mapping[label]"
   ]
  },
  {
   "cell_type": "code",
   "execution_count": 365,
   "metadata": {
    "scrolled": true
   },
   "outputs": [
    {
     "name": "stdout",
     "output_type": "stream",
     "text": [
      "(124800, 28, 28, 1)\n"
     ]
    },
    {
     "data": {
      "image/png": "[encoded data removed]",
      "text/plain": [
       "<Figure size 432x288 with 9 Axes>"
      ]
     },
     "metadata": {},
     "output_type": "display_data"
    }
   ],
   "source": [
    "f = r'E:\\Documents\\Data\\Datasets\\gzip\\train_letters_images.gz'\n",
    "with gzip.open(f, 'rb') as file:\n",
    "    data = np.frombuffer(file.read(), np.uint8, offset = 16)\n",
    "    data = data.reshape(-1,28,28)\n",
    "    data/np.float32(256)\n",
    "  \n",
    "for i in range(9):\n",
    "    plt.subplot(3,3,i+1)\n",
    "    plt.tight_layout()\n",
    "    x = randint(0,50000)\n",
    "    plt.imshow(data[x].T, cmap='gray', interpolation='none')\n",
    "    plt.xticks([])\n",
    "    plt.yticks([])\n",
    "\n",
    "data = data.reshape(-1,28,28,1)\n",
    "print(data.shape)"
   ]
  },
  {
   "cell_type": "code",
   "execution_count": 366,
   "metadata": {},
   "outputs": [
    {
     "name": "stdout",
     "output_type": "stream",
     "text": [
      "Loading Letters\n",
      "Loading Digits\n"
     ]
    }
   ],
   "source": [
    "# load the data\n",
    "xtrain, ytrain, xtest, ytest = load_dataset(digits=False) # letters \n",
    "x_train, y_train, x_test, y_test = load_dataset(digits=True) # digits"
   ]
  },
  {
   "cell_type": "code",
   "execution_count": 266,
   "metadata": {},
   "outputs": [
    {
     "name": "stdout",
     "output_type": "stream",
     "text": [
      "Letters shape: (124800, 28, 28)\n",
      "Digits shape: (240000, 28, 28)\n"
     ]
    }
   ],
   "source": [
    "print(f\"Letters shape: {xtrain.shape}\")\n",
    "print(f\"Digits shape: {x_train.shape}\")"
   ]
  },
  {
   "cell_type": "markdown",
   "metadata": {},
   "source": [
    "# Join The Data\n",
    "Right now the data is split into a letters set and a digits set. I want to join these two data sets into one master data set with images of letters and digits.\n",
    "\n",
    "* Letters shape: (124800, 28, 28)\n",
    "* Digits shape: (240000, 28, 28)"
   ]
  },
  {
   "cell_type": "code",
   "execution_count": 267,
   "metadata": {},
   "outputs": [
    {
     "name": "stdout",
     "output_type": "stream",
     "text": [
      "xtrain shape: (364800, 28, 28)\n",
      "ytrain shape: (364800,)\n",
      "Wall time: 1.74 s\n"
     ]
    }
   ],
   "source": [
    "%%time\n",
    "xfull = np.concatenate((xtrain,x_train),axis = 0)\n",
    "xfull_test = np.concatenate((xtest,x_test),axis = 0)\n",
    "# the images are sideways so we transpose them to put them in the right orientation\n",
    "for index,x in enumerate(xfull):\n",
    "    xfull[index] = x.T\n",
    "    \n",
    "for index,x in enumerate(xfull_test):\n",
    "    xfull_test[index] = x.T\n",
    "    \n",
    "\n",
    "# add 27 to the digit labels so that we can use 1 mapping function\n",
    "# for the letters and digits. If this cell is ran more than once, 27\n",
    "# will be added to all the values again and will cause an error\n",
    "y_train = y_train + 27\n",
    "y_test = y_test + 27\n",
    "yfull = np.concatenate((ytrain,y_train))\n",
    "yfull_test = np.concatenate((ytest,y_test))\n",
    "\n",
    "assert xfull.shape[0] == (xtrain.shape[0]+x_train.shape[0])\n",
    "print(f\"xtrain shape: {xfull.shape}\")\n",
    "assert yfull.shape[0] == (ytrain.shape[0]+y_train.shape[0])\n",
    "print(f\"ytrain shape: {yfull.shape}\")"
   ]
  },
  {
   "cell_type": "code",
   "execution_count": 268,
   "metadata": {},
   "outputs": [
    {
     "data": {
      "image/png": "[encoded data removed]",
      "text/plain": [
       "<Figure size 432x288 with 9 Axes>"
      ]
     },
     "metadata": {},
     "output_type": "display_data"
    }
   ],
   "source": [
    "view_sample_images(xfull,yfull)"
   ]
  },
  {
   "cell_type": "code",
   "execution_count": 269,
   "metadata": {},
   "outputs": [
    {
     "data": {
      "image/png": "[encoded data removed]",
      "text/plain": [
       "<Figure size 432x288 with 9 Axes>"
      ]
     },
     "metadata": {},
     "output_type": "display_data"
    }
   ],
   "source": [
    "view_sample_images(xfull,yfull)"
   ]
  },
  {
   "cell_type": "code",
   "execution_count": 270,
   "metadata": {},
   "outputs": [],
   "source": [
    "# the data is in the shape (124800, 28, 28) and we need it to be (124800, 28, 28, 1)\n",
    "# before we can feed it to our model\n",
    "xfull = xfull.reshape(-1,28,28,1)\n",
    "xfull_test = xfull_test.reshape(-1,28,28,1)"
   ]
  },
  {
   "cell_type": "code",
   "execution_count": 271,
   "metadata": {},
   "outputs": [],
   "source": [
    "# we also need to encode the labels\n",
    "le = LabelEncoder()\n",
    "yfull = to_categorical(le.fit_transform(yfull))"
   ]
  },
  {
   "cell_type": "code",
   "execution_count": 284,
   "metadata": {},
   "outputs": [],
   "source": [
    "le2 = LabelEncoder()\n",
    "yfull_test = to_categorical(le.fit_transform(yfull_test))"
   ]
  },
  {
   "cell_type": "code",
   "execution_count": 285,
   "metadata": {},
   "outputs": [
    {
     "data": {
      "text/plain": [
       "(60800, 36)"
      ]
     },
     "execution_count": 285,
     "metadata": {},
     "output_type": "execute_result"
    }
   ],
   "source": [
    "yfull.shape\n",
    "yfull_test.shape"
   ]
  },
  {
   "cell_type": "markdown",
   "metadata": {},
   "source": [
    "# Model Building\n",
    "This model will be a CNN with:\n",
    "* 2 convolutional layers\n",
    "* 2 maxpooling layers\n",
    "* 2 dropout layers \n",
    "* and a fully connected layer"
   ]
  },
  {
   "cell_type": "code",
   "execution_count": 288,
   "metadata": {},
   "outputs": [
    {
     "name": "stdout",
     "output_type": "stream",
     "text": [
      "Model: \"sequential_4\"\n",
      "_________________________________________________________________\n",
      "Layer (type)                 Output Shape              Param #   \n",
      "=================================================================\n",
      "conv2d_3 (Conv2D)            (None, 26, 26, 32)        320       \n",
      "_________________________________________________________________\n",
      "max_pooling2d_3 (MaxPooling2 (None, 13, 13, 32)        0         \n",
      "_________________________________________________________________\n",
      "conv2d_4 (Conv2D)            (None, 11, 11, 64)        18496     \n",
      "_________________________________________________________________\n",
      "max_pooling2d_4 (MaxPooling2 (None, 5, 5, 64)          0         \n",
      "_________________________________________________________________\n",
      "dropout_3 (Dropout)          (None, 5, 5, 64)          0         \n",
      "_________________________________________________________________\n",
      "flatten_2 (Flatten)          (None, 1600)              0         \n",
      "_________________________________________________________________\n",
      "dense_3 (Dense)              (None, 256)               409856    \n",
      "_________________________________________________________________\n",
      "dropout_4 (Dropout)          (None, 256)               0         \n",
      "_________________________________________________________________\n",
      "dense_4 (Dense)              (None, 36)                9252      \n",
      "=================================================================\n",
      "Total params: 437,924\n",
      "Trainable params: 437,924\n",
      "Non-trainable params: 0\n",
      "_________________________________________________________________\n"
     ]
    }
   ],
   "source": [
    "batches = 128\n",
    "epochs = 3\n",
    "classes = 36\n",
    "input_shape = (28,28,1)\n",
    "\n",
    "model = Sequential()\n",
    "model.add(Conv2D(32, kernel_size=(3,3), activation='relu', input_shape=input_shape))\n",
    "model.add(MaxPooling2D(pool_size=(2,2)))\n",
    "model.add(Conv2D(64,(3,3),activation='relu'))\n",
    "model.add(MaxPooling2D(pool_size=(2,2)))\n",
    "model.add(Dropout(.25))\n",
    "model.add(Flatten())\n",
    "model.add(Dense(256, activation='relu'))\n",
    "model.add(Dropout(0.5))\n",
    "model.add(Dense(classes, activation='softmax'))\n",
    "\n",
    "model.compile(loss = 'categorical_crossentropy',\n",
    "             optimizer = 'adam',\n",
    "             metrics = ['accuracy'])\n",
    "model.summary()"
   ]
  },
  {
   "cell_type": "code",
   "execution_count": 289,
   "metadata": {},
   "outputs": [
    {
     "name": "stdout",
     "output_type": "stream",
     "text": [
      "Wall time: 0 ns\n",
      "Train on 364800 samples, validate on 60800 samples\n",
      "Epoch 1/3\n",
      "364800/364800 [==============================] - 260s 714us/step - loss: 0.5410 - accuracy: 0.8393 - val_loss: 0.2750 - val_accuracy: 0.9100\n",
      "\n",
      "Epoch 00001: val_loss improved from inf to 0.27505, saving model to E:\\Documents\\My Projects\\Optical Character Recognition\\Models\\optical.hdf5\n",
      "Epoch 2/3\n",
      "364800/364800 [==============================] - 242s 663us/step - loss: 0.3403 - accuracy: 0.8930 - val_loss: 0.2381 - val_accuracy: 0.9225\n",
      "\n",
      "Epoch 00002: val_loss improved from 0.27505 to 0.23805, saving model to E:\\Documents\\My Projects\\Optical Character Recognition\\Models\\optical.hdf5\n",
      "Epoch 3/3\n",
      "364800/364800 [==============================] - 243s 666us/step - loss: 0.3032 - accuracy: 0.9042 - val_loss: 0.2254 - val_accuracy: 0.9261\n",
      "\n",
      "Epoch 00003: val_loss improved from 0.23805 to 0.22543, saving model to E:\\Documents\\My Projects\\Optical Character Recognition\\Models\\optical.hdf5\n"
     ]
    }
   ],
   "source": [
    "checkpoint = ModelCheckpoint(filepath = r'E:\\Documents\\My Projects\\Optical Character Recognition\\Models\\optical.hdf5',\n",
    "                            verbose = 1, save_best_only=True)\n",
    "stopping = EarlyStopping(monitor='val_loss',patience=3)\n",
    "\n",
    "callbacks = [checkpoint,stopping]\n",
    "\n",
    "%time\n",
    "history = model.fit(xfull,yfull,\n",
    "                     batch_size=batches,\n",
    "                     epochs=epochs,\n",
    "                     validation_data=(xfull_test,yfull_test),\n",
    "                     callbacks=callbacks,\n",
    "                     verbose=1)"
   ]
  },
  {
   "cell_type": "code",
   "execution_count": 290,
   "metadata": {},
   "outputs": [
    {
     "data": {
      "image/png": "[encoded data removed]",
      "text/plain": [
       "<Figure size 720x432 with 1 Axes>"
      ]
     },
     "metadata": {
      "needs_background": "light"
     },
     "output_type": "display_data"
    },
    {
     "data": {
      "image/png": "[encoded data removed]",
      "text/plain": [
       "<Figure size 720x432 with 1 Axes>"
      ]
     },
     "metadata": {
      "needs_background": "light"
     },
     "output_type": "display_data"
    }
   ],
   "source": [
    "# plot the loss function #342b38\n",
    "fig, ax = plt.subplots(1,1,figsize = (10,6))\n",
    "ax.plot(history.history['loss'],color = '#ff9595',label = 'Train')\n",
    "ax.plot(history.history['val_loss'],color = '#342b38',label = 'val')\n",
    "ax.set_xlabel('Epoch',fontsize=20)\n",
    "ax.set_ylabel('Loss',fontsize=20)\n",
    "ax.set_title('Loss Function',fontsize = 15)\n",
    "ax.legend()\n",
    "ax.tick_params(labelsize=20)\n",
    "\n",
    "# plot the accuracy\n",
    "fig, ax = plt.subplots(1,1,figsize = (10,6))\n",
    "ax.plot(history.history['accuracy'],color = '#ff9595',label = 'Train')\n",
    "ax.plot(history.history['val_accuracy'],color = '#342b38',label = 'val')\n",
    "ax.set_xlabel('Epoch',fontsize=20)\n",
    "ax.set_ylabel('Loss',fontsize=20)\n",
    "ax.set_title('Accuracy',fontsize = 15)\n",
    "ax.legend()\n",
    "ax.tick_params(labelsize=20)"
   ]
  },
  {
   "cell_type": "markdown",
   "metadata": {},
   "source": [
    "# Evaluation and Testing"
   ]
  },
  {
   "cell_type": "code",
   "execution_count": 293,
   "metadata": {},
   "outputs": [
    {
     "name": "stdout",
     "output_type": "stream",
     "text": [
      "Training Accuracy: 0.9299917817115784\n",
      "Test Accuracy: 0.9260526299476624\n"
     ]
    }
   ],
   "source": [
    "score = model.evaluate(xfull,yfull,verbose=0)\n",
    "print(f\"Training Accuracy: {score[1]}\")\n",
    "\n",
    "score = model.evaluate(xfull_test,yfull_test,verbose = 0)\n",
    "print(f\"Test Accuracy: {score[1]}\")\n"
   ]
  },
  {
   "cell_type": "code",
   "execution_count": 368,
   "metadata": {},
   "outputs": [
    {
     "ename": "AttributeError",
     "evalue": "module 'urllib' has no attribute 'URLopener'",
     "output_type": "error",
     "traceback": [
      "\u001b[1;31m---------------------------------------------------------------------------\u001b[0m",
      "\u001b[1;31mAttributeError\u001b[0m                            Traceback (most recent call last)",
      "\u001b[1;32m<ipython-input-368-5892598aac06>\u001b[0m in \u001b[0;36m<module>\u001b[1;34m\u001b[0m\n\u001b[0;32m     48\u001b[0m \u001b[1;31m# img = r'E:\\Documents\\My Projects\\Optical Character Recognition\\images\\1.jpg'\u001b[0m\u001b[1;33m\u001b[0m\u001b[1;33m\u001b[0m\u001b[1;33m\u001b[0m\u001b[0m\n\u001b[0;32m     49\u001b[0m \u001b[0mimg\u001b[0m \u001b[1;33m=\u001b[0m \u001b[1;34mr'https://www.google.com/url?sa=i&url=https%3A%2F%2Fwww.urbanthreads.com%2FProducts.aspx%3FproductId%3DUTH4634&psig=AOvVaw3tIXHOy_nrU-srbz5LaWMD&ust=1591762148690000&source=images&cd=vfe&ved=0CAIQjRxqFwoTCKCb9Z7u8-kCFQAAAAAdAAAAABAE'\u001b[0m\u001b[1;33m\u001b[0m\u001b[1;33m\u001b[0m\u001b[0m\n\u001b[1;32m---> 50\u001b[1;33m \u001b[0mpredict_drawing\u001b[0m\u001b[1;33m(\u001b[0m\u001b[0mimg\u001b[0m\u001b[1;33m)\u001b[0m\u001b[1;33m\u001b[0m\u001b[1;33m\u001b[0m\u001b[0m\n\u001b[0m\u001b[0;32m     51\u001b[0m \u001b[1;31m# print(img.shape)\u001b[0m\u001b[1;33m\u001b[0m\u001b[1;33m\u001b[0m\u001b[1;33m\u001b[0m\u001b[0m\n\u001b[0;32m     52\u001b[0m \u001b[1;31m# # view_image(img)\u001b[0m\u001b[1;33m\u001b[0m\u001b[1;33m\u001b[0m\u001b[1;33m\u001b[0m\u001b[0m\n",
      "\u001b[1;32m<ipython-input-368-5892598aac06>\u001b[0m in \u001b[0;36mpredict_drawing\u001b[1;34m(img, load, show)\u001b[0m\n\u001b[0;32m     30\u001b[0m \u001b[1;33m\u001b[0m\u001b[0m\n\u001b[0;32m     31\u001b[0m     \u001b[1;32mif\u001b[0m \u001b[0mload\u001b[0m\u001b[1;33m:\u001b[0m\u001b[1;33m\u001b[0m\u001b[1;33m\u001b[0m\u001b[0m\n\u001b[1;32m---> 32\u001b[1;33m         \u001b[0mimg\u001b[0m \u001b[1;33m=\u001b[0m \u001b[0mload_image\u001b[0m\u001b[1;33m(\u001b[0m\u001b[0mimg\u001b[0m\u001b[1;33m)\u001b[0m\u001b[1;33m\u001b[0m\u001b[1;33m\u001b[0m\u001b[0m\n\u001b[0m\u001b[0;32m     33\u001b[0m         \u001b[0mview_image\u001b[0m\u001b[1;33m(\u001b[0m\u001b[0mimg\u001b[0m\u001b[1;33m)\u001b[0m\u001b[1;33m\u001b[0m\u001b[1;33m\u001b[0m\u001b[0m\n\u001b[0;32m     34\u001b[0m \u001b[1;33m\u001b[0m\u001b[0m\n",
      "\u001b[1;32m<ipython-input-368-5892598aac06>\u001b[0m in \u001b[0;36mload_image\u001b[1;34m(path, url)\u001b[0m\n\u001b[0;32m      4\u001b[0m     \u001b[1;32mif\u001b[0m \u001b[0murl\u001b[0m\u001b[1;33m:\u001b[0m\u001b[1;33m\u001b[0m\u001b[1;33m\u001b[0m\u001b[0m\n\u001b[0;32m      5\u001b[0m         \u001b[0mlocation\u001b[0m \u001b[1;33m=\u001b[0m \u001b[1;34mr'E:\\Documents\\My Projects\\Optical Character Recognition\\images'\u001b[0m\u001b[1;33m\u001b[0m\u001b[1;33m\u001b[0m\u001b[0m\n\u001b[1;32m----> 6\u001b[1;33m         \u001b[0murllib\u001b[0m\u001b[1;33m.\u001b[0m\u001b[0mURLopener\u001b[0m\u001b[1;33m(\u001b[0m\u001b[1;33m)\u001b[0m\u001b[1;33m.\u001b[0m\u001b[0murlretrieve\u001b[0m\u001b[1;33m(\u001b[0m\u001b[0mpath\u001b[0m\u001b[1;33m,\u001b[0m\u001b[0mlocation\u001b[0m\u001b[1;33m)\u001b[0m\u001b[1;33m\u001b[0m\u001b[1;33m\u001b[0m\u001b[0m\n\u001b[0m\u001b[0;32m      7\u001b[0m         \u001b[0mbase\u001b[0m \u001b[1;33m=\u001b[0m \u001b[0mos\u001b[0m\u001b[1;33m.\u001b[0m\u001b[0mpath\u001b[0m\u001b[1;33m.\u001b[0m\u001b[0mbasename\u001b[0m\u001b[1;33m(\u001b[0m\u001b[0mpath\u001b[0m\u001b[1;33m)\u001b[0m\u001b[1;33m\u001b[0m\u001b[1;33m\u001b[0m\u001b[0m\n\u001b[0;32m      8\u001b[0m         \u001b[0mpath\u001b[0m \u001b[1;33m=\u001b[0m \u001b[0mos\u001b[0m\u001b[1;33m.\u001b[0m\u001b[0mpath\u001b[0m\u001b[1;33m.\u001b[0m\u001b[0mjoin\u001b[0m\u001b[1;33m(\u001b[0m\u001b[0mlocation\u001b[0m\u001b[1;33m,\u001b[0m\u001b[0mbasename\u001b[0m\u001b[1;33m)\u001b[0m\u001b[1;33m\u001b[0m\u001b[1;33m\u001b[0m\u001b[0m\n",
      "\u001b[1;31mAttributeError\u001b[0m: module 'urllib' has no attribute 'URLopener'"
     ]
    }
   ],
   "source": [
    "import cv2\n",
    "\n",
    "def load_image(path,url = True):\n",
    "    if url:\n",
    "        location = r'E:\\Documents\\My Projects\\Optical Character Recognition\\images'\n",
    "        urllib.urlretrieve(path,location)\n",
    "        base = os.path.basename(path)\n",
    "        path = os.path.join(location,basename)\n",
    "  \n",
    "    # load the image as greyscaled\n",
    "    img = cv2.imread(path,0)\n",
    "    print(f\"Image loaded: {img.shape}\")\n",
    "    return img\n",
    "    \n",
    "    \n",
    "    \n",
    "    \n",
    "def view_image(img):\n",
    "    if len(img.shape) == 3:\n",
    "        print(f\"Reducing Dimensions from: {len(img.shape)}\")\n",
    "        img = np.squeeze(img,axis=2)\n",
    "        print(f\"to: {len(img.shape)}\\nShape{img.shape}\")\n",
    "    \n",
    "    \n",
    "    fig, ax = plt.subplots(1,1,figsize = (10,6))\n",
    "    ax.imshow(img, cmap='gray', interpolation='none')\n",
    "    \n",
    "    \n",
    "def predict_drawing(img, load = True, show = False):\n",
    "    \n",
    "    if load:\n",
    "        img = load_image(img)\n",
    "        view_image(img)        \n",
    "            \n",
    "    #resize the image\n",
    "    if img.shape != (28,28):\n",
    "        print(\"Resizing image\")\n",
    "        img = cv2.resize(img,(256,256))\n",
    "    # convert to greyscale\n",
    "    #print(img)\n",
    "    #img = img.convert('L')\n",
    "    print(f\"img shape {type(img)}\")\n",
    "    view_image(img)\n",
    "    \n",
    "    \n",
    "    \n",
    "img = xfull_test[2]\n",
    "# img = r'E:\\Documents\\My Projects\\Optical Character Recognition\\images\\1.jpg'\n",
    "img = r'https://www.google.com/url?sa=i&url=https%3A%2F%2Fwww.urbanthreads.com%2FProducts.aspx%3FproductId%3DUTH4634&psig=AOvVaw3tIXHOy_nrU-srbz5LaWMD&ust=1591762148690000&source=images&cd=vfe&ved=0CAIQjRxqFwoTCKCb9Z7u8-kCFQAAAAAdAAAAABAE'\n",
    "predict_drawing(img)\n",
    "# print(img.shape)\n",
    "# # view_image(img)\n",
    "# img = np.squeeze(img,axis=2)\n",
    "# print(img.shape)\n",
    "# view_image(img)"
   ]
  },
  {
   "cell_type": "code",
   "execution_count": null,
   "metadata": {},
   "outputs": [],
   "source": []
  },
  {
   "cell_type": "code",
   "execution_count": null,
   "metadata": {},
   "outputs": [],
   "source": []
  }
 ],
 "metadata": {
  "kernelspec": {
   "display_name": "Python 3",
   "language": "python",
   "name": "python3"
  },
  "language_info": {
   "codemirror_mode": {
    "name": "ipython",
    "version": 3
   },
   "file_extension": ".py",
   "mimetype": "text/x-python",
   "name": "python",
   "nbconvert_exporter": "python",
   "pygments_lexer": "ipython3",
   "version": "3.7.4"
  }
 },
 "nbformat": 4,
 "nbformat_minor": 2
}
